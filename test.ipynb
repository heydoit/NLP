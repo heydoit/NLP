{
 "cells": [
  {
   "cell_type": "code",
   "execution_count": 67,
   "metadata": {},
   "outputs": [
    {
     "name": "stdout",
     "output_type": "stream",
     "text": [
      "긍정 :  11\n",
      "부정 :  6\n"
     ]
    }
   ],
   "source": [
    "import pandas as pd\n",
    "import numpy as np\n",
    "\n",
    "Lyrics = pd.read_csv('C:/Applications/py/NLP/Lyrics_v2.csv')\n",
    "\n",
    "pos_word = pd.read_csv('C:/Applications/py/NLP/pos_pol_word.txt', index_col = 0)\n",
    "pos_word = pd.DataFrame(pos_word).reset_index()\n",
    "pos_word.columns = ['pos_word']\n",
    "\n",
    "pos_count = 0\n",
    "for pos_text in pos_word['pos_word']:\n",
    "    pos_find = Lyrics['Lyrics'][0].find(pos_text)\n",
    "    if(pos_find > 0):\n",
    "        pos_count += 1\n",
    "\n",
    "neg_word = pd.read_csv('C:/Applications/py/NLP/neg_pol_word.txt', index_col = 0)\n",
    "neg_word = pd.DataFrame(neg_word).reset_index()\n",
    "neg_word.columns = ['neg_word']\n",
    "\n",
    "neg_count = 0\n",
    "for neg_text in neg_word['neg_word']:\n",
    "    neg_find = Lyrics['Lyrics'][0].find(neg_text)\n",
    "    if(neg_find > 0):\n",
    "        neg_count += 1\n",
    "\n",
    "print(\"긍정 : \", pos_count)\n",
    "print(\"부정 : \", neg_count)"
   ]
  }
 ],
 "metadata": {
  "kernelspec": {
   "display_name": "Python 3",
   "language": "python",
   "name": "python3"
  },
  "language_info": {
   "codemirror_mode": {
    "name": "ipython",
    "version": 3
   },
   "file_extension": ".py",
   "mimetype": "text/x-python",
   "name": "python",
   "nbconvert_exporter": "python",
   "pygments_lexer": "ipython3",
   "version": "3.8.8rc1"
  },
  "orig_nbformat": 4,
  "vscode": {
   "interpreter": {
    "hash": "3f25357e12cbb3d909bf2de687af48ad09c49335a28383f32960c8024c75c395"
   }
  }
 },
 "nbformat": 4,
 "nbformat_minor": 2
}
