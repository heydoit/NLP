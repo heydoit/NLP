{
 "cells": [
  {
   "cell_type": "code",
   "execution_count": null,
   "metadata": {},
   "outputs": [],
   "source": [
    "import pandas as pd\n",
    "import numpy as np\n",
    "import matplotlib.pyplot as plt\n",
    "import seaborn as sns\n",
    "%matplotlib inline\n",
    "\n",
    "# from wordcloud import WordCloud\n",
    "import re\n",
    "import hanja\n",
    "from hanja import hangul\n",
    "from konlpy.tag import Okt\n",
    "from tensorflow.keras.preprocessing.sequence import pad_sequences\n",
    "from tensorflow.keras.preprocessing.text import Tokenizer\n",
    "from konlpy.tag import Kkma, Komoran, Okt, Hannanum #Mecab은 윈도우에서 작동 불가능\n",
    "from wordcloud import WordCloud\n",
    "from time import time\n",
    "\n",
    "from konlpy import tag\n",
    "from konlpy.corpus import kolaw\n",
    "# from konlpy.utils import csvwrite, pprint\n",
    "\n",
    "from nltk.tokenize import sent_tokenize\n",
    "\n",
    "Lyrics = pd.read_csv('./Lyrics.csv',encoding='cp949')\n",
    "Lyrics = pd.DataFrame(Lyrics)\n",
    "\n",
    "tokenizer = Tokenizer()\n",
    "tokenizer.fit_on_texts(Lyrics)\n",
    "text_seq = tokenizer.texts_to_sequences(Lyrics)\n",
    "\n",
    "pd.set_option('display.max_seq_items', 10000)\n",
    "pd.set_option('display.max_row', 10000)\n",
    "pd.set_option('display.max_columns', 10000)\n",
    "\n",
    "np.set_printoptions(threshold=np.inf, linewidth=np.inf)\n",
    "print(f'전체 학습 데이터 수: {len(Lyrics)}')\n",
    "Lyrics['label'].value_counts()\n",
    "okt = Okt()\n",
    "kkma = Kkma()\n",
    "komoran = Komoran()\n",
    "hannanum = Hannanum()\n",
    "print(Lyrics['Lyrics'][0])"
   ]
  }
 ],
 "metadata": {
  "kernelspec": {
   "display_name": "Python 3",
   "language": "python",
   "name": "python3"
  },
  "language_info": {
   "name": "python",
   "version": "3.8.8 (tags/v3.8.8:024d805, Feb 19 2021, 13:18:16) [MSC v.1928 64 bit (AMD64)]"
  },
  "orig_nbformat": 4,
  "vscode": {
   "interpreter": {
    "hash": "6e8e9ca9ce0274dad526133f756b6ad37cc253da7c5fa7480fcce56a628e0a81"
   }
  }
 },
 "nbformat": 4,
 "nbformat_minor": 2
}
